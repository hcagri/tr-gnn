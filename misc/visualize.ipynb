{
 "cells": [
  {
   "cell_type": "code",
   "execution_count": 1,
   "metadata": {},
   "outputs": [],
   "source": [
    "import pandas as pd \n",
    "import cv2 as cv \n",
    "import os \n",
    "import os.path as osp\n",
    "import numpy as np\n",
    "import random \n",
    "import matplotlib.pyplot as plt "
   ]
  },
  {
   "cell_type": "code",
   "execution_count": 2,
   "metadata": {},
   "outputs": [],
   "source": [
    "tableau20 = [\n",
    "    (31, 119, 180), (174, 199, 232), (255, 127, 14), (255, 187, 120),\n",
    "    (44, 160, 44), (152, 223, 138), (214, 39, 40), (255, 152, 150),\n",
    "    (148, 103, 189), (197, 176, 213), (140, 86, 75), (196, 156, 148),\n",
    "    (227, 119, 194), (247, 182, 210), (127, 127, 127), (199, 199, 199),\n",
    "    (188, 189, 34), (219, 219, 141), (23, 190, 207), (158, 218, 229)\n",
    "]"
   ]
  },
  {
   "cell_type": "code",
   "execution_count": 3,
   "metadata": {},
   "outputs": [],
   "source": [
    "seqmap_path = \"/truba/home/hbilgi/dev/thesis/mot_data/MOT17/seqmaps/mot17-test-all.txt\"\n",
    "data_path = \"/truba/home/hbilgi/dev/thesis/mot_data/MOT17\"\n",
    "results_path = \"/truba/home/hbilgi/dev/simple-model/outputs/experiments/mot17_public_test_03-22_10:47:53.493746/test/mot_files\"\n",
    "gt = False"
   ]
  },
  {
   "cell_type": "code",
   "execution_count": 4,
   "metadata": {},
   "outputs": [],
   "source": [
    "with open(seqmap_path, 'r') as f:\n",
    "    seqmaps = f.readlines()\n",
    "seqmaps = [d.replace(\"\\n\", \"\") for d in seqmaps[1:]]"
   ]
  },
  {
   "cell_type": "code",
   "execution_count": 5,
   "metadata": {},
   "outputs": [
    {
     "data": {
      "text/plain": [
       "['MOT17-01-DPM',\n",
       " 'MOT17-03-DPM',\n",
       " 'MOT17-06-DPM',\n",
       " 'MOT17-07-DPM',\n",
       " 'MOT17-08-DPM',\n",
       " 'MOT17-12-DPM',\n",
       " 'MOT17-14-DPM',\n",
       " 'MOT17-01-FRCNN',\n",
       " 'MOT17-03-FRCNN',\n",
       " 'MOT17-06-FRCNN',\n",
       " 'MOT17-07-FRCNN',\n",
       " 'MOT17-08-FRCNN',\n",
       " 'MOT17-12-FRCNN',\n",
       " 'MOT17-14-FRCNN',\n",
       " 'MOT17-01-SDP',\n",
       " 'MOT17-03-SDP',\n",
       " 'MOT17-06-SDP',\n",
       " 'MOT17-07-SDP',\n",
       " 'MOT17-08-SDP',\n",
       " 'MOT17-12-SDP',\n",
       " 'MOT17-14-SDP']"
      ]
     },
     "execution_count": 5,
     "metadata": {},
     "output_type": "execute_result"
    }
   ],
   "source": [
    "seqmaps"
   ]
  },
  {
   "cell_type": "code",
   "execution_count": 6,
   "metadata": {},
   "outputs": [
    {
     "data": {
      "text/plain": [
       "['MOT17-14-DPM']"
      ]
     },
     "execution_count": 6,
     "metadata": {},
     "output_type": "execute_result"
    }
   ],
   "source": [
    "seqmaps = seqmaps[6:7]\n",
    "seqmaps"
   ]
  },
  {
   "cell_type": "code",
   "execution_count": 7,
   "metadata": {},
   "outputs": [],
   "source": [
    "def save_annotated_image(df, tableau20, save_path):\n",
    "    font_scale = 1\n",
    "    font_thickness = 2\n",
    "    font = cv.FONT_HERSHEY_SIMPLEX\n",
    "\n",
    "    ped_ids = df['ped_id']\n",
    "    uniq_ids = np.unique(ped_ids.values)\n",
    "    new_ids = np.arange(0,uniq_ids.shape[0])\n",
    "    id_mapping = dict(zip(uniq_ids, new_ids))\n",
    "    df['ped_id'] = df['ped_id'].map(id_mapping)\n",
    "\n",
    "    ped_colors = {}\n",
    "    unique_frames = np.unique(df['frame'].to_numpy())\n",
    "    for frame in unique_frames:\n",
    "        frame_df = df.loc[df['frame'] == frame]\n",
    "        if frame_df.empty:\n",
    "            continue\n",
    "        \n",
    "        img = cv.imread(frame_df.iloc[0]['frame_path'])\n",
    "        for idx, row in frame_df.iterrows():\n",
    "            bb_left, bb_top, bb_width, bb_height = row[['bb_left', 'bb_top', 'bb_width', 'bb_height']]\n",
    "            bb_right = bb_left + bb_width\n",
    "            bb_bottom = bb_top + bb_height\n",
    "            text_x = bb_left    \n",
    "            text_y = bb_bottom - 10  # Adjust this value to control the vertical position of the text\n",
    "            ped_id = row['ped_id']\n",
    "\n",
    "            if ped_id in ped_colors.keys():\n",
    "                color = ped_colors[ped_id]\n",
    "            else:\n",
    "                color = random.choice(tableau20)\n",
    "                ped_colors[ped_id] = color\n",
    "\n",
    "            img = cv.rectangle(img, (int(bb_left), int(bb_top)), (int(bb_right), int(bb_bottom)), color, 3)\n",
    "            img = cv.putText(img, f\"{ped_id}\", (int(text_x), int(text_y)), font, font_scale, color, font_thickness)        \n",
    "        \n",
    "        # print(osp.join(save_path,frame_df.iloc[0]['frame_path'].split('/')[-1]))\n",
    "        cv.imwrite(osp.join(save_path,frame_df.iloc[0]['frame_path'].split('/')[-1]), img)\n",
    "\n"
   ]
  },
  {
   "cell_type": "code",
   "execution_count": 8,
   "metadata": {},
   "outputs": [],
   "source": [
    "COL_NAMES = ['frame', 'ped_id', 'bb_left', 'bb_top', 'bb_width', 'bb_height', 'conf', 'x', 'y','z']\n",
    "\n",
    "for seq in seqmaps:\n",
    "\n",
    "    if gt:\n",
    "        df = pd.read_csv(osp.join(data_path, 'train', seq, 'gt', 'gt.txt'), header = None, names=COL_NAMES[:-1])\n",
    "        df['frame_path'] = df['frame'].apply(lambda frame_num: osp.join(data_path, 'train', seq, f'img1/{int(frame_num):06}.jpg'))\n",
    "        df = df[df['conf']==1]\n",
    "    else:\n",
    "        df = pd.read_csv(osp.join(results_path, seq + '.txt'), header = None, names=COL_NAMES)\n",
    "        df['frame_path'] = df['frame'].apply(lambda frame_num: osp.join(data_path, 'test', seq, f'img1/{int(frame_num):06}.jpg'))\n",
    "    \n",
    "    if not osp.exists(osp.join('outputs/vis', seq)):\n",
    "        os.makedirs(osp.join('outputs/vis', seq))\n",
    "        \n",
    "    save_annotated_image(df, tableau20, osp.join('outputs/vis', seq))"
   ]
  },
  {
   "cell_type": "code",
   "execution_count": 10,
   "metadata": {},
   "outputs": [
    {
     "name": "stdout",
     "output_type": "stream",
     "text": [
      "Video creation completed.\n"
     ]
    }
   ],
   "source": [
    "path = 'outputs/vis/MOT17-14-DPM'\n",
    "image_names = sorted(os.listdir(path), key=lambda x: int(x.split('.')[0]))\n",
    "\n",
    "output_video_path = osp.join('outputs/vis', path.split('/')[-1] + '.mp4')\n",
    "frame_size = (1920, 1080)  # Width and height of the frames\n",
    "frame_rate = 25  # Frames per second\n",
    "codec = cv.VideoWriter_fourcc(*'mp4v')  # Video codec\n",
    "\n",
    "# Create a VideoWriter object\n",
    "out = cv.VideoWriter(output_video_path, codec, frame_rate, frame_size)\n",
    "\n",
    "# Iterate through the list of images and add them to the video\n",
    "for img_name in image_names:\n",
    "    img = cv.imread(os.path.join(path, img_name))\n",
    "    out.write(img)\n",
    "\n",
    "# Release the VideoWriter object\n",
    "out.release()\n",
    "\n",
    "# Optional: Display a message when the video creation is complete\n",
    "print(\"Video creation completed.\")"
   ]
  },
  {
   "cell_type": "code",
   "execution_count": null,
   "metadata": {},
   "outputs": [],
   "source": []
  }
 ],
 "metadata": {
  "kernelspec": {
   "display_name": "py_cuda",
   "language": "python",
   "name": "python3"
  },
  "language_info": {
   "codemirror_mode": {
    "name": "ipython",
    "version": 3
   },
   "file_extension": ".py",
   "mimetype": "text/x-python",
   "name": "python",
   "nbconvert_exporter": "python",
   "pygments_lexer": "ipython3",
   "version": "3.8.undefined"
  }
 },
 "nbformat": 4,
 "nbformat_minor": 2
}
